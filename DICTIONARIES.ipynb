{
 "cells": [
  {
   "cell_type": "code",
   "execution_count": 3,
   "metadata": {},
   "outputs": [
    {
     "name": "stdout",
     "output_type": "stream",
     "text": [
      "d1= {'rno': 1, 'name': 'Ram', 'marks': 90}\n",
      "d2= {'jan': 31, 'mar': 31, 'apr': 30}\n",
      "d3= {1: 'sun', 'mar': 2, 3.3: 30, 'month': 'apr'}\n",
      "<class 'int'>\n",
      "<class 'int'>\n"
     ]
    }
   ],
   "source": [
    "#create a dictionary d1 with 3 items rno ,name and marks as keys and 1,'Ram' and 90 as resp.values\n",
    "d1={'rno':1,'name':'Ram','marks':90}\n",
    "print('d1=',d1)\n",
    "\n",
    "#create a dictionary d2 with 3 items 'jan','mar' & 'apr' as keys nd 31,31 & 30 as  resp. values\n",
    "d2={'jan':31,'mar':31,'apr':30}\n",
    "print('d2=',d2)\n",
    "\n",
    "#create a dictionary d3 \n",
    "d3={1:'sun','mar':2,3.3:30,'month':'apr'}\n",
    "print('d3=',d3)\n",
    "print(type(d3['mar']))\n",
    "print(type(d3[3.3]))\n"
   ]
  },
  {
   "cell_type": "code",
   "execution_count": 4,
   "metadata": {},
   "outputs": [
    {
     "name": "stdout",
     "output_type": "stream",
     "text": [
      "d1=\n",
      "no of items in dictionary= 3\n",
      "d1= {'rno': 1, 'name': 'Rama', 'marks': 90, 'AGE': 15}\n",
      "no of items in dictionary= 4\n",
      "d1= {'rno': 1, 'name': 'krishna', 'marks': 90, 'AGE': 15}\n",
      "no of items in dictionary= 4\n"
     ]
    }
   ],
   "source": [
    "d1={'rno':1,'name':'Rama','marks':90}\n",
    "print('d1=')\n",
    "#len(d1)- to return no of items in d1\n",
    "print('no of items in dictionary=',len(d1))\n",
    "\n",
    "#ADDING A NEW ITEM  IN DICTIONARY WITH A NEW KEY:\n",
    "d1['AGE']=15\n",
    "print('d1=',d1)\n",
    "print('no of items in dictionary=',len(d1))\n",
    "\n",
    "#EDITING VALUE OF AN EXISITNG ITEM NAME :\n",
    "d1['name']='krishna'# value of name key  will change from  Rama to Krishna\n",
    "print('d1=',d1)\n",
    "print('no of items in dictionary=',len(d1))\n"
   ]
  },
  {
   "cell_type": "code",
   "execution_count": 5,
   "metadata": {},
   "outputs": [
    {
     "name": "stdout",
     "output_type": "stream",
     "text": [
      "d1= {'rno': 1, 'name': 'Rama', 'marks': 90}\n",
      "keys= dict_keys(['rno', 'name', 'marks'])\n",
      "values= dict_values([1, 'Rama', 90])\n",
      "items= dict_items([('rno', 1), ('name', 'Rama'), ('marks', 90)])\n",
      "Rama\n",
      "None\n",
      "not existing\n"
     ]
    }
   ],
   "source": [
    "#using get()\n",
    "d1={'rno':1,'name':'Rama','marks':90}\n",
    "print('d1=',d1,sep=' ')\n",
    "print('keys=',d1.keys())\n",
    "print('values=',d1.values())\n",
    "print('items=',d1.items())\n",
    "print(d1.get('name'))#Rama\n",
    "print(d1.get('names'))#None\n",
    "print(d1.get('names','not existing'))#Rama/not found\n"
   ]
  },
  {
   "cell_type": "code",
   "execution_count": 14,
   "metadata": {},
   "outputs": [
    {
     "name": "stdout",
     "output_type": "stream",
     "text": [
      "sorted (d2)= [3, 6, 9, 52]\n",
      "after exec. sorted(d2), d2= {52: 20, 3: 35, 6: 20, 9: 66}\n",
      "[1, 2, 3, 4]\n",
      "{3: 1000, 1: 10, 4: 100, 2: 1}\n"
     ]
    }
   ],
   "source": [
    "#sorted()will sort the items in dictionary as a list, dicitonary order will not bechanged\n",
    "d2={52:20,3:35,6:20,9:66}\n",
    "print('sorted (d2)=',sorted(d2))\n",
    "print('after exec. sorted(d2), d2=',d2)"
   ]
  },
  {
   "cell_type": "code",
   "execution_count": 7,
   "metadata": {},
   "outputs": [
    {
     "name": "stdout",
     "output_type": "stream",
     "text": [
      "['aa', 'cccc', 'dd', 'y']\n"
     ]
    }
   ],
   "source": [
    "#sorting a dict with all keys of str type\n",
    "d2={'y':20,'cccc':35,'aa':20,'dd':66}\n",
    "print(sorted(d2))"
   ]
  },
  {
   "cell_type": "code",
   "execution_count": 9,
   "metadata": {},
   "outputs": [
    {
     "name": "stdout",
     "output_type": "stream",
     "text": [
      "True\n",
      "False\n",
      "False\n",
      "True\n"
     ]
    }
   ],
   "source": [
    "d2={'e':'eagle','f':'fan','h':'house'}\n",
    "print('f' in d2)\n",
    "print('eagle' in d2)\n",
    "print('fan' in d2.keys())\n",
    "print('fan' in d2.values())"
   ]
  },
  {
   "cell_type": "code",
   "execution_count": 10,
   "metadata": {},
   "outputs": [
    {
     "name": "stdout",
     "output_type": "stream",
     "text": [
      "d1= {'rno': 1, 'name': 'Rama', 'marks': 90}\n",
      "after deletion d1= {'rno': 1, 'marks': 90}\n"
     ]
    }
   ],
   "source": [
    "#deleting an item  name from dict based on a given key\n",
    "d1={'rno':1,'name':'Rama','marks':90}\n",
    "print('d1=',d1,sep=' ')\n",
    "del d1['name']\n",
    "print('after deletion d1=',d1,sep=' ')\n"
   ]
  },
  {
   "cell_type": "code",
   "execution_count": 11,
   "metadata": {},
   "outputs": [],
   "source": [
    "#deleting d1 itself\n",
    "d1={'rno':1,'name':'Rama','marks':90}\n",
    "del d1\n",
    "\n",
    "#print('after deletion d1=',d1,sep=' ') will trhrow error"
   ]
  },
  {
   "cell_type": "code",
   "execution_count": 12,
   "metadata": {},
   "outputs": [
    {
     "name": "stdout",
     "output_type": "stream",
     "text": [
      "{}\n"
     ]
    }
   ],
   "source": [
    "#clear()-will delete the complete content and makes dcitionary empty\n",
    "d1={'rno':1,'name':'Rama','marks':90}\n",
    "d1.clear()# all three items of d1 got deleted\n",
    "print(d1) # d1 still exists but empty"
   ]
  },
  {
   "cell_type": "code",
   "execution_count": 13,
   "metadata": {},
   "outputs": [
    {
     "name": "stdout",
     "output_type": "stream",
     "text": [
      "before updation,d1= {1: 10, 2: 20, 3: 30}\n",
      "d2= {4: 40, 1: 100, 5: 50}\n",
      "after updation,d1= {1: 100, 2: 20, 3: 30, 4: 40, 5: 50}\n",
      "d2= {4: 40, 1: 100, 5: 50}\n"
     ]
    }
   ],
   "source": [
    "#update()- will add anitem if a given key is not present otherwise update the value of exisitng key with new value\n",
    "d1={1:10,2:20,3:30}\n",
    "d2={4:40,1:100,5:50}\n",
    "print('before updation,d1=',d1)\n",
    "print('d2=',d2)\n",
    "d1.update(d2)\n",
    "print('after updation,d1=',d1)\n",
    "print('d2=',d2)\n"
   ]
  },
  {
   "cell_type": "code",
   "execution_count": 21,
   "metadata": {},
   "outputs": [
    {
     "name": "stdout",
     "output_type": "stream",
     "text": [
      "d.keys()= dict_keys(['a', 2, 'car'])\n",
      "type of d.keys()= <class 'dict_keys'>\n",
      "a\n",
      "2\n",
      "car\n",
      "l1= ['a', 2, 'car'] type of l1= <class 'list'>\n"
     ]
    }
   ],
   "source": [
    "#to print keys of all items usinga for loop\n",
    "d={'a':'ant',2:'bat','car':3}\n",
    "print('d.keys()=',d.keys())\n",
    "print('type of d.keys()=',type(d.keys()))\n",
    "for i in d.keys():\n",
    "        print(i)\n",
    "l1=list(d.keys())\n",
    "print('l1=',l1,'type of l1=',type(l1))"
   ]
  },
  {
   "cell_type": "code",
   "execution_count": 20,
   "metadata": {},
   "outputs": [
    {
     "name": "stdout",
     "output_type": "stream",
     "text": [
      "ant\n",
      "bat\n",
      "3\n"
     ]
    }
   ],
   "source": [
    "#to print keys and values of all items using a for loop\n",
    "d={'a':'ant',2:'bat','car':3}\n",
    "for i in d.values():\n",
    "    print(i)"
   ]
  },
  {
   "cell_type": "code",
   "execution_count": 22,
   "metadata": {},
   "outputs": [
    {
     "name": "stdout",
     "output_type": "stream",
     "text": [
      "a ant\n",
      "2 bat\n",
      "car 3\n"
     ]
    }
   ],
   "source": [
    "#items()-to print keys and values of all items using a for loop\n",
    "d={'a':'ant',2:'bat','car':3}\n",
    "for i,j in d.items():\n",
    "    print(i,j)"
   ]
  },
  {
   "cell_type": "code",
   "execution_count": 23,
   "metadata": {},
   "outputs": [
    {
     "name": "stdout",
     "output_type": "stream",
     "text": [
      "3\n",
      "1\n",
      "6\n",
      "10\n",
      "1\n",
      "21\n",
      "3\n",
      "1\n",
      "6\n"
     ]
    }
   ],
   "source": [
    "d={1:1,2:10,3:10}\n",
    "print(max(d))\n",
    "print(min(d))\n",
    "print(sum(d))\n",
    "print(max(d.values()))\n",
    "print(min(d.values()))\n",
    "print(sum(d.values()))\n",
    "print(max(d.keys()))\n",
    "print(min(d.keys()))\n",
    "print(sum(d.keys()))"
   ]
  },
  {
   "cell_type": "code",
   "execution_count": 25,
   "metadata": {},
   "outputs": [
    {
     "name": "stdout",
     "output_type": "stream",
     "text": [
      "{'rno1': 90, 'rno2': 95, 'rno3': 96, 'rno4': 94}\n",
      "375\n",
      "93.75\n"
     ]
    }
   ],
   "source": [
    "#average of values\n",
    "d1={'rno1':90,'rno2':95,'rno3':96,'rno4':94}\n",
    "print(d1)\n",
    "s=sum(d1.values())\n",
    "print(s)\n",
    "print(s/len(d1))"
   ]
  },
  {
   "cell_type": "code",
   "execution_count": 26,
   "metadata": {},
   "outputs": [
    {
     "name": "stdout",
     "output_type": "stream",
     "text": [
      "pcode:101\n",
      "price100\n",
      "pcode:102\n",
      "price100\n",
      "pcode:103\n",
      "price350\n",
      "{101: 100, 102: 100, 103: 350}\n"
     ]
    }
   ],
   "source": [
    "#to input  a dictionary that stores product codes and prices of 3  products\n",
    "#{101:100,102:100,103-350}\n",
    "d={}#empty dict\n",
    "for i in range(3):#3 times -0 to 2\n",
    "    pcode=int(input(\"pcode:\"))\n",
    "    price=int(input(\"price\"))\n",
    "    d[pcode]=price \n",
    "       \n",
    "print(d)"
   ]
  },
  {
   "cell_type": "code",
   "execution_count": 28,
   "metadata": {},
   "outputs": [
    {
     "name": "stdout",
     "output_type": "stream",
     "text": [
      "pcode:101\n",
      "price100\n",
      "pcode:102\n",
      "price100\n",
      "pcode:103\n",
      "price350\n",
      "{101: 100, 102: 100, 103: 350}\n"
     ]
    }
   ],
   "source": [
    "#input 3 items  with distict keys using a while loop\n",
    "d={}\n",
    "i=1\n",
    "while i<=3:\n",
    "    pcode=int(input(\"pcode:\"))\n",
    "    price=int(input(\"price\"))\n",
    "    if pcode not in d.keys():\n",
    "        d[pcode]=price    \n",
    "    else:\n",
    "        i=i-1\n",
    "    i=i+1\n",
    "    \n",
    "print(d)"
   ]
  },
  {
   "cell_type": "code",
   "execution_count": 30,
   "metadata": {},
   "outputs": [
    {
     "name": "stdout",
     "output_type": "stream",
     "text": [
      "{'A': 1, 'r': 3, 'e': 3, ' ': 3, 'a': 2, 'l': 2, 'o': 1, 'k': 1}\n"
     ]
    }
   ],
   "source": [
    "#creating a dict wth tally of characters present in a given string\n",
    "#if given string is \"Are real real\"-a tally of no of chars present in a given str\n",
    "#output should be  A:1,'r':3,'e':3,' ':3,'a':2,'l':2,'o':1,'k':1\n",
    "s=\"Are real real ok\"\n",
    "d={}\n",
    "\n",
    "for i in s:\n",
    "    if i in d:\n",
    "        d[i]=d[i]+1\n",
    "    else:\n",
    "        d[i]=1 \n",
    "print(d) "
   ]
  },
  {
   "cell_type": "code",
   "execution_count": 31,
   "metadata": {},
   "outputs": [
    {
     "name": "stdout",
     "output_type": "stream",
     "text": [
      "{'a': 1, 'e': 0, 'i': 2, 'o': 2, 'u': 0}\n"
     ]
    }
   ],
   "source": [
    "# to make a tally of vowels present in a string\n",
    "s=\"InformAtiOn\"\n",
    "d={}\n",
    "vowels=\"aeiou\"\n",
    "for i in vowels: #\n",
    "    d[i]=s.lower().count(i) #'a':1,'e':0,'i':1,'o':1,'u':0\n",
    "     \n",
    "print(d)"
   ]
  },
  {
   "cell_type": "code",
   "execution_count": 57,
   "metadata": {},
   "outputs": [
    {
     "name": "stdout",
     "output_type": "stream",
     "text": [
      "{'jan': 31, 'feb': 28, 'mar': 31, 'apr': 30, 'may': 31, 'jun': 30, 'jul': 31, 'aug': 31, 'sep': 30, 'oct': 31, 'nov': 30, 'dec': 31}\n",
      "enter a month name:jun\n",
      "30\n",
      "30\n",
      "['apr', 'aug', 'dec', 'feb', 'jan', 'jul', 'jun', 'mar', 'may', 'nov', 'oct', 'sep']\n",
      "['apr', 'aug', 'dec', 'feb', 'jan', 'jul', 'jun', 'mar', 'may', 'nov', 'oct', 'sep'] \n",
      "names of months with 31 days-method 1\n",
      "jan mar may jul aug oct dec \n",
      "names of months with 31 days-method 2\n",
      "jan mar may jul aug oct dec "
     ]
    }
   ],
   "source": [
    "#1.to create a dictionary with names of months and days in a month(Assume feb has 28 days)\n",
    "\n",
    "d={'jan':31,'feb':28,'mar':31,'apr':30,'may':31,'jun':30,'jul':31,'aug':31,'sep':30,'oct':31,'nov':30,'dec':31}\n",
    "print(d)\n",
    "\n",
    "#2.accept a month name and print the number of days and print a message for invalid input\n",
    "mname=input(\"enter a month name:\")\n",
    "#print(d[mname]) # will throw error if the given month does not match with exising key months\n",
    "#or\n",
    "print(d.get(mname))#value if found otherwise None\n",
    "print(d.get(mname,'match not found'))#value if found,otherwise msg \"match found\"\n",
    "\n",
    "#3Print all the month names(keys) in alphabetical order\n",
    "print(sorted(d))\n",
    "print(sorted(d.keys()),end=' ')\n",
    "print()\n",
    "\n",
    "#4 print all the month names with 31 days \n",
    "print('names of months with 31 days-method 1')\n",
    "for i in d.keys():\n",
    "    if d[i]==31:\n",
    "        print(i,end=' ')\n",
    "print()\n",
    "#4 method 2\n",
    "print('names of months with 31 days-method 2')\n",
    "for i,j in d.items():\n",
    "    if j==31:\n",
    "        print(i,end=' ')\n",
    "\n"
   ]
  },
  {
   "cell_type": "code",
   "execution_count": 37,
   "metadata": {},
   "outputs": [
    {
     "name": "stdout",
     "output_type": "stream",
     "text": [
      "d1= {'eng': 90, 'mat': 99, 'cs': 95}\n",
      "d2= {'eng': 99, 'mat': 97, 'cs': 90}\n",
      "d3= {'eng': 92, 'mat': 98, 'cs': 85}\n",
      "nested d= {1: {'eng': 90, 'mat': 99, 'cs': 95}, 2: {'eng': 99, 'mat': 97, 'cs': 90}, 3: {'eng': 92, 'mat': 98, 'cs': 85}}\n",
      "{'eng': 90, 'mat': 99, 'cs': 95}\n",
      "90\n",
      "98\n"
     ]
    }
   ],
   "source": [
    "#nested dictionary\n",
    "#to store details of 3 students in a dictionary -\n",
    "#details include rno,marksin 3 subjects\n",
    "d1={'eng':90,'mat':99,'cs':95}  #marks of rno 1\n",
    "d2={'eng':99,'mat':97,'cs':90}  #marks of rno 2\n",
    "d3={'eng':92,'mat':98,'cs':85}  #marks of rno 3\n",
    "print('d1=',d1)\n",
    "print('d2=',d2)\n",
    "print('d3=',d3)\n",
    "d={1:d1,2:d2,3:d3}#main\n",
    "print('nested d=',d)\n",
    "print(d[1])\n",
    "print(d[2]['cs'])\n",
    "print(d[3]['mat'])\n"
   ]
  },
  {
   "cell_type": "code",
   "execution_count": 38,
   "metadata": {},
   "outputs": [
    {
     "name": "stdout",
     "output_type": "stream",
     "text": [
      "marks to start with = {'aaa': 60, 'bbb': 100, 'ccc': 95, 'ddd': 80, 'eee': 100}\n"
     ]
    }
   ],
   "source": [
    "'''\n",
    "1.To assign a dictionary that stores the following names and marks obtained by  5 students\n",
    "# name   marks\n",
    "  aaa     60\n",
    "  bbb     100\n",
    "  ccc     95\n",
    "  ddd     80\n",
    "  eee     100\n",
    "'''\n",
    "marks={'aaa':60,'bbb':100,'ccc':95,'ddd':80,'eee':100}\n",
    "print('marks to start with =',marks)"
   ]
  },
  {
   "cell_type": "code",
   "execution_count": 40,
   "metadata": {},
   "outputs": [
    {
     "name": "stdout",
     "output_type": "stream",
     "text": [
      "highest mark= 100\n",
      "highest mark is secured by :  bbb eee \n"
     ]
    }
   ],
   "source": [
    "#2. To print the highest mark and name(s) of students who secured the highest\n",
    "highest=max(marks.values()) #100\n",
    "print('highest mark=',highest)\n",
    "\n",
    "print('highest mark is secured by : ',end=' ')\n",
    "for i in marks:\n",
    "    if marks[i]==highest:# \n",
    "        print(i,end=' ')\n",
    "print()"
   ]
  },
  {
   "cell_type": "code",
   "execution_count": 41,
   "metadata": {},
   "outputs": [
    {
     "name": "stdout",
     "output_type": "stream",
     "text": [
      "average= 87.0\n",
      "no of students who secored above average= 3\n"
     ]
    }
   ],
   "source": [
    "#3.To find the average mark and print the number of students whose marks are above average mark\n",
    "average=sum(marks.values())/len(marks)\n",
    "print('average=',average)\n",
    "print('no of students who secored above average=',end=' ')\n",
    "kount=0\n",
    "for i in marks:\n",
    "    if marks[i]>average:\n",
    "        kount=kount+1\n",
    "print(kount)"
   ]
  },
  {
   "cell_type": "code",
   "execution_count": 42,
   "metadata": {},
   "outputs": [
    {
     "name": "stdout",
     "output_type": "stream",
     "text": [
      "marks after changing marks of ccc {'aaa': 60, 'bbb': 100, 'ccc': 98, 'ddd': 80, 'eee': 100}\n"
     ]
    }
   ],
   "source": [
    "#4 modifyng the value of a keyIncrement the marks of ccc by 3\n",
    "marks['ccc']=marks['ccc']+3#98\n",
    "print('marks after changing marks of ccc',marks)"
   ]
  },
  {
   "cell_type": "code",
   "execution_count": 44,
   "metadata": {},
   "outputs": [
    {
     "name": "stdout",
     "output_type": "stream",
     "text": [
      "marks afteer adding two more new  elements {'aaa': 60, 'bbb': 100, 'ccc': 98, 'ddd': 80, 'eee': 100, 'fff': 75, 'ggg': 65}\n"
     ]
    }
   ],
   "source": [
    "#5.To add two more elements to the dictionary with given names and marks: fff-75 ,ggg-65\n",
    "marks['fff']=75\n",
    "marks['ggg']=65\n",
    "print('marks afteer adding two more new  elements',marks)"
   ]
  },
  {
   "cell_type": "code",
   "execution_count": 45,
   "metadata": {},
   "outputs": [
    {
     "name": "stdout",
     "output_type": "stream",
     "text": [
      "new marks= {'bbb': 55, 'fff': 81, 'jjj': 84, 'kkk': 64}\n"
     ]
    }
   ],
   "source": [
    "#6.Create another dictionary newmarks similar to marks dictionary with 2 elements -bbb-55 ,fff-81,jjj 84 and kkk-64\n",
    "newmarks={'bbb':55 ,'fff':81,'jjj':84,'kkk':64}\n",
    "print('new marks=',newmarks)"
   ]
  },
  {
   "cell_type": "code",
   "execution_count": 46,
   "metadata": {},
   "outputs": [
    {
     "name": "stdout",
     "output_type": "stream",
     "text": [
      "marks= {'aaa': 60, 'bbb': 100, 'ccc': 98, 'ddd': 80, 'eee': 100, 'fff': 75, 'ggg': 65}\n",
      "newmarks= {'bbb': 55, 'fff': 81, 'jjj': 84, 'kkk': 64}\n",
      "allmarks= {'aaa': 60, 'bbb': 55, 'ccc': 98, 'ddd': 80, 'eee': 100, 'fff': 81, 'ggg': 65, 'jjj': 84, 'kkk': 64}\n"
     ]
    }
   ],
   "source": [
    "#7.Create a new dictionary allmarks,by joining items of two dicitonaries marks and newmarks\n",
    "#and print all the three dictionaries\n",
    "#allmarks=marks.update(newmarks)\n",
    "allmarks=marks.copy()\n",
    "allmarks.update(newmarks)\n",
    "print('marks=',marks)\n",
    "print('newmarks=',newmarks)\n",
    "print('allmarks=',allmarks)"
   ]
  },
  {
   "cell_type": "code",
   "execution_count": 47,
   "metadata": {},
   "outputs": [
    {
     "name": "stdout",
     "output_type": "stream",
     "text": [
      "marks obtained by bbb= 55\n"
     ]
    }
   ],
   "source": [
    "#8.Display the marks of bbb from merged dictionary\n",
    "print('marks obtained by bbb=',allmarks['bbb'])"
   ]
  },
  {
   "cell_type": "code",
   "execution_count": 48,
   "metadata": {},
   "outputs": [
    {
     "name": "stdout",
     "output_type": "stream",
     "text": [
      "allmarks after deleting ccc= {'aaa': 60, 'bbb': 55, 'ddd': 80, 'eee': 100, 'fff': 81, 'ggg': 65, 'jjj': 84, 'kkk': 64}\n"
     ]
    }
   ],
   "source": [
    "#9.deleting the entry of ccc from allmarks dictionary using del\n",
    "del allmarks['ccc']\n",
    "print('allmarks after deleting ccc=',allmarks)"
   ]
  },
  {
   "cell_type": "code",
   "execution_count": 50,
   "metadata": {},
   "outputs": [
    {
     "name": "stdout",
     "output_type": "stream",
     "text": [
      "allmarks after deleting kkk= {'aaa': 60, 'bbb': 55, 'ddd': 80, 'fff': 81, 'ggg': 65, 'jjj': 84, 'kkk': 64}\n"
     ]
    }
   ],
   "source": [
    "#10.deleting the item with  key eee from allmarks dictionary using pop(ikey)\n",
    "allmarks.pop('eee')\n",
    "print('allmarks after deleting kkk=',allmarks)"
   ]
  },
  {
   "cell_type": "code",
   "execution_count": 51,
   "metadata": {},
   "outputs": [
    {
     "name": "stdout",
     "output_type": "stream",
     "text": [
      "allmarks after popitem= {'aaa': 60, 'bbb': 55, 'ddd': 80, 'fff': 81, 'ggg': 65, 'jjj': 84}\n"
     ]
    }
   ],
   "source": [
    "#11.deleting last inserted item using popitem()\n",
    "allmarks.popitem()#wil delete 'kkk'\n",
    "print('allmarks after popitem=',allmarks)"
   ]
  },
  {
   "cell_type": "code",
   "execution_count": 52,
   "metadata": {},
   "outputs": [
    {
     "name": "stdout",
     "output_type": "stream",
     "text": [
      "{'aaa': 60, 'bbb': 55, 'ddd': 80, 'fff': 81, 'ggg': 65, 'jjj': 84}\n",
      "{'aaa': 60, 'bbb': 55, 'ddd': 80, 'fff': 81, 'jjj': 84}\n",
      "{'aaa': 60, 'bbb': 55, 'ddd': 80, 'fff': 81}\n"
     ]
    }
   ],
   "source": [
    "print(allmarks)\n",
    "allmarks.pop('ggg')#'ggg' gets deleted\n",
    "print(allmarks)\n",
    "allmarks.popitem()# 'jjj' gets delted\n",
    "print(allmarks)"
   ]
  },
  {
   "cell_type": "code",
   "execution_count": 53,
   "metadata": {},
   "outputs": [
    {
     "name": "stdout",
     "output_type": "stream",
     "text": [
      "allmarks after emptying {}\n"
     ]
    }
   ],
   "source": [
    "#12. remove all the items of allmarks dicitonary\n",
    "allmarks.clear()\n",
    "print('allmarks after emptying',allmarks)"
   ]
  },
  {
   "cell_type": "code",
   "execution_count": 54,
   "metadata": {},
   "outputs": [],
   "source": [
    "#13 to delete allmarks dicitonary form menmory\n",
    "del allmarks\n",
    "#print(allmarks)\n",
    "#(allmarks)"
   ]
  },
  {
   "cell_type": "code",
   "execution_count": 55,
   "metadata": {},
   "outputs": [
    {
     "name": "stdout",
     "output_type": "stream",
     "text": [
      "d1= {102: 61, 101: 61, 103: 60, 104: 20, 105: 80, 106: 40}\n",
      "d2= {102: 61, 101: 61, 103: 60, 105: 80}\n",
      "d3= {104: 20, 106: 40}\n"
     ]
    }
   ],
   "source": [
    "#14. considering the given dictionery d1 with id as key and age as value.\n",
    "#split d1 into two dictionaries based on the age ,d2 with items with age 60 and above  and rest of the intms into d3\n",
    "#print all the three dictionaries\n",
    "d1={102:61,101:61,103:60,104:20,105:80,106:40}\n",
    "d2={}\n",
    "d3={}\n",
    "for i in d1:\n",
    "    if d1[i]>=60:\n",
    "        d2[i]=d1[i]# {102:61}{103:60.105:80}\n",
    "    else:\n",
    "        d3[i]=d1[i] #{101:19,104:20,106:40}\n",
    "print('d1=',d1)\n",
    "print('d2=',d2)\n",
    "print('d3=',d3)  "
   ]
  },
  {
   "cell_type": "code",
   "execution_count": 56,
   "metadata": {},
   "outputs": [
    {
     "name": "stdout",
     "output_type": "stream",
     "text": [
      "d1= {1: 2, 2: 3}\n",
      "d2= {4: 5, 2: 25, 6: 10}\n",
      "d3= {1: 2, 2: 25, 4: 5, 6: 10}\n"
     ]
    }
   ],
   "source": [
    "#join d1 and d2 to make d3\n",
    "d1={1:2,2:3}\n",
    "d2={4:5,2:25,6:10}\n",
    "d3={}#joined\n",
    "d3=d1.copy()\n",
    "d3.update(d2) #d3 is update\n",
    "print('d1=',d1)\n",
    "print('d2=',d2)\n",
    "print('d3=',d3)\n"
   ]
  },
  {
   "cell_type": "code",
   "execution_count": 64,
   "metadata": {},
   "outputs": [
    {
     "name": "stdout",
     "output_type": "stream",
     "text": [
      "list1= [['a', 'apple'], ['b', 'bat'], ['c', 'cat'], ['a', 'ant']]\n",
      "d1= {'a': 'ant', 'b': 'bat', 'c': 'cat'}\n"
     ]
    }
   ],
   "source": [
    "#dict()- to create a dictionary from a list which has key value pair as its subelements\n",
    "list1=[['a','apple'],['b','bat'],['c','cat'],['a','ant']]\n",
    "print('list1=',list1)\n",
    "d1=dict(list1)\n",
    "print('d1=',d1)"
   ]
  },
  {
   "cell_type": "code",
   "execution_count": 71,
   "metadata": {},
   "outputs": [
    {
     "name": "stdout",
     "output_type": "stream",
     "text": [
      "tuple1= (('a', 'apple'), ('b', 'bat'), ('c', 'cat'), ('a', 'ant'))\n",
      "d1= {'a': 'ant', 'b': 'bat', 'c': 'cat'}\n"
     ]
    }
   ],
   "source": [
    "#dict()- to create a dictionary from a tuple which has key value pair as its subelements\n",
    "tuple1=(('a','apple'),('b','bat'),('c','cat'),('a','ant'))\n",
    "print('tuple1=',tuple1)\n",
    "d1=dict(tuple1)\n",
    "print('d1=',d1)"
   ]
  },
  {
   "cell_type": "code",
   "execution_count": null,
   "metadata": {},
   "outputs": [],
   "source": []
  }
 ],
 "metadata": {
  "kernelspec": {
   "display_name": "Python 3",
   "language": "python",
   "name": "python3"
  },
  "language_info": {
   "codemirror_mode": {
    "name": "ipython",
    "version": 3
   },
   "file_extension": ".py",
   "mimetype": "text/x-python",
   "name": "python",
   "nbconvert_exporter": "python",
   "pygments_lexer": "ipython3",
   "version": "3.7.6"
  }
 },
 "nbformat": 4,
 "nbformat_minor": 4
}
